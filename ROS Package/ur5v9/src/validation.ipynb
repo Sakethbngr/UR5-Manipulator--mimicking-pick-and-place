{
 "cells": [
  {
   "cell_type": "code",
   "execution_count": 21,
   "metadata": {},
   "outputs": [],
   "source": [
    "import sympy\n",
    "from sympy import *\n",
    "import matplotlib.pyplot as plt"
   ]
  },
  {
   "cell_type": "code",
   "execution_count": 22,
   "metadata": {},
   "outputs": [],
   "source": [
    "theta1, theta2, theta3, theta4, theta5, theta6,a1, a2, a3, a4, a5, a6, d1, d2, d3, d4, d5, d6,  alpha1, alpha2, alpha3, alpha4, alpha5, alpha6 = symbols('theta1, theta2, theta3, theta4, theta5, theta6, a1, a2, a3, a4, a5, a6, d1, d2, d3, d4, d5, d6, alpha1, alpha2, alpha3, alpha4, alpha5, alpha6 ', real=True)\n",
    "\n",
    "theta = [theta1, theta2, theta3, theta4, theta5, theta6]\n",
    "alpha = [alpha1, alpha2, alpha3, alpha4, alpha5, alpha6]\n",
    "\n",
    "\n",
    "a1 = 0\n",
    "a2 = -0.425\t\n",
    "a3 = -0.39225\t\n",
    "a4 = 0\n",
    "a5 = 0\t\n",
    "a6 = 0\n",
    "\n",
    "a = [a1, a2, a3, a4, a5, a6]\n",
    "\n",
    "d1 = 0.089159\n",
    "d2 = 0\n",
    "d3 = 0\n",
    "d4 = 0.10915\t\n",
    "d5 = 0.09465\t\n",
    "d6 = 0.0823\n",
    "\n",
    "d = [d1, d2, d3, d4, d5, d6]\n",
    "\n"
   ]
  },
  {
   "cell_type": "code",
   "execution_count": 23,
   "metadata": {},
   "outputs": [],
   "source": [
    "def transform_mat(theta, a, d, alpha):\n",
    "    mat = sympy.Matrix([[cos(theta), (-sin(theta)*cos(alpha)), (sin(theta)*sin(alpha)), (a*cos(theta))],\n",
    "        [sin(theta), (cos(theta)*cos(alpha)), (-cos(theta)*sin(alpha)), (a*sin(theta))], \n",
    "        [0, sin(alpha), cos(alpha), d], [0, 0, 0, 1]])\n",
    "\n",
    "    return mat"
   ]
  },
  {
   "cell_type": "code",
   "execution_count": 24,
   "metadata": {},
   "outputs": [],
   "source": [
    "T1 = transform_mat(theta[0], a[0], d[0], alpha[0])\n",
    "T2 = transform_mat(theta[1], a[1], d[1], alpha[1])\n",
    "T3 = transform_mat(theta[2], a[2], d[2], alpha[2])\n",
    "T4 = transform_mat(theta[3], a[3], d[3], alpha[3])\n",
    "T5 = transform_mat(theta[4], a[4], d[4], alpha[4])\n",
    "T6 = transform_mat(theta[5], a[5], d[5], alpha[5])\n"
   ]
  },
  {
   "cell_type": "code",
   "execution_count": 25,
   "metadata": {},
   "outputs": [
    {
     "name": "stdout",
     "output_type": "stream",
     "text": [
      "DH parameters table:\n"
     ]
    },
    {
     "data": {
      "text/latex": [
       "$\\displaystyle \\left[\\begin{matrix}\\theta_{1} & 0 & 0.089159 & \\frac{\\pi}{2}\\\\\\theta_{2} & -0.425 & 0 & - \\frac{\\pi}{2}\\\\\\theta_{3} & -0.39925 & 0 & - \\frac{\\pi}{2}\\\\\\theta_{4} & 0 & 0.10915 & \\frac{\\pi}{2}\\\\\\theta_{5} & 0 & 0.09465 & \\frac{\\pi}{2}\\\\\\theta_{6} & 0 & 0.0823 & - \\frac{\\pi}{2}\\end{matrix}\\right]$"
      ],
      "text/plain": [
       "Matrix([\n",
       "[theta1,        0, 0.089159,  pi/2],\n",
       "[theta2,   -0.425,        0, -pi/2],\n",
       "[theta3, -0.39925,        0, -pi/2],\n",
       "[theta4,        0,  0.10915,  pi/2],\n",
       "[theta5,        0,  0.09465,  pi/2],\n",
       "[theta6,        0,   0.0823, -pi/2]])"
      ]
     },
     "execution_count": 25,
     "metadata": {},
     "output_type": "execute_result"
    }
   ],
   "source": [
    "DH = sympy.Matrix([[theta1, 0, 0.089159, pi/2], \n",
    "            [theta2, -0.425, 0, -pi/2], \n",
    "            [theta3, -0.39925, 0, -pi/2],\n",
    "            [theta4, 0, 0.10915, pi/2],\n",
    "            [theta5, 0, 0.09465, pi/2], \n",
    "            [theta6, 0, 0.0823, -pi/2]])\n",
    "\n",
    "\n",
    "print(\"DH parameters table:\")\n",
    "DH"
   ]
  },
  {
   "cell_type": "code",
   "execution_count": 26,
   "metadata": {},
   "outputs": [
    {
     "name": "stdout",
     "output_type": "stream",
     "text": [
      "The final transformation matrix is:\n"
     ]
    },
    {
     "data": {
      "text/latex": [
       "$\\displaystyle \\left[\\begin{matrix}0.131303142229377 & -0.337731590275575 & -0.932039085967226 & -0.303710417873362\\\\0.932039085967226 & 0.362357754476674 & 0 & -0.362387299364716\\\\0.337731590275575 & -0.868696857770623 & 0.362357754476674 & -0.430824298123519\\\\0 & 0 & 0 & 1\\end{matrix}\\right]$"
      ],
      "text/plain": [
       "Matrix([\n",
       "[0.131303142229377, -0.337731590275575, -0.932039085967226, -0.303710417873362],\n",
       "[0.932039085967226,  0.362357754476674,                  0, -0.362387299364716],\n",
       "[0.337731590275575, -0.868696857770623,  0.362357754476674, -0.430824298123519],\n",
       "[                0,                  0,                  0,                  1]])"
      ]
     },
     "execution_count": 26,
     "metadata": {},
     "output_type": "execute_result"
    }
   ],
   "source": [
    "T1 = T1.subs(a1, DH[1]).subs(alpha1, DH[3]).subs(d1, DH[2])\n",
    "T2 = T2.subs(a2, DH[5]).subs(alpha2, DH[7]).subs(d2, DH[6])\n",
    "T3 = T3.subs(a3, DH[9]).subs(alpha3, DH[11]).subs(d3, DH[10])\n",
    "T4 = T4.subs(a4, DH[13]).subs(alpha4, DH[15]).subs(d4, DH[14])\n",
    "T5 = T5.subs(a5, DH[17]).subs(alpha5, DH[19]).subs(d5, DH[18])\n",
    "T6 = T6.subs(a6, DH[21]).subs(alpha6, DH[23]).subs(d6, DH[22])\n",
    "\n",
    "T = T1*T2*T3*T4*T5*T6\n",
    "\n",
    "T = T.subs(theta1, 0).subs(theta2, 1.2).subs(theta3, 1.2).subs(theta4, 0).subs(theta5, 0).subs(theta6,0)\n",
    "\n",
    "print(\"The final transformation matrix is:\")\n",
    "T\n",
    "\n"
   ]
  },
  {
   "cell_type": "code",
   "execution_count": 27,
   "metadata": {},
   "outputs": [],
   "source": [
    "T_01 = T1\n",
    "T_02 = T_01*T2\n",
    "T_03 = T_02*T3\n",
    "T_04 = T_02*T3*T4\n",
    "T_05 = T_04*T5\n",
    "T_07 = T_05*T6"
   ]
  },
  {
   "cell_type": "code",
   "execution_count": 28,
   "metadata": {},
   "outputs": [],
   "source": [
    "def Z_0i(T):\n",
    "    return sympy.Matrix([T[2], T[6], T[10]])\n",
    "\n",
    "\n",
    "\n",
    "\n",
    "Z1 = Z_0i(T_01)\n",
    "Z2 = Z_0i(T_02)\n",
    "Z3 = Z_0i(T_03)\n",
    "Z4 = Z_0i(T_04)\n",
    "Z5 = Z_0i(T_05)\n",
    "Z6 = Z_0i(T_07)"
   ]
  },
  {
   "cell_type": "code",
   "execution_count": 29,
   "metadata": {},
   "outputs": [],
   "source": [
    "\n",
    "xp = [diff(T_07[3], theta1), diff(T_07[3], theta2), diff(T_07[3], theta3) ,diff(T_07[3], theta4), diff(T_07[3], theta5), diff(T_07[3], theta6)]\n",
    "\n",
    "yp = [diff(T_07[7], theta1), diff(T_07[7], theta2), diff(T_07[7], theta3),diff(T_07[7], theta4), diff(T_07[7], theta5), diff(T_07[7], theta6)]\n",
    "\n",
    "zp = [diff(T_07[11], theta1), diff(T_07[11], theta2), diff(T_07[7], theta3),diff(T_07[11], theta4), diff(T_07[11], theta5), diff(T_07[11], theta6)]"
   ]
  },
  {
   "cell_type": "code",
   "execution_count": 30,
   "metadata": {},
   "outputs": [],
   "source": [
    "Jac = sympy.Matrix([ xp, yp, zp, [Z1, Z2, Z3, Z4, Z5, Z6]])\n",
    "\n",
    "Jac1 = Jac.subs(theta1, 0).subs(theta2, 1.2).subs(theta3, 1.2).subs(theta4, 0).subs(theta5, 0).subs(theta6,0)"
   ]
  },
  {
   "cell_type": "code",
   "execution_count": 31,
   "metadata": {},
   "outputs": [
    {
     "name": "stdout",
     "output_type": "stream",
     "text": [
      "Jacobian Matrix is:\n"
     ]
    },
    {
     "data": {
      "text/latex": [
       "$\\displaystyle \\left[\\begin{matrix}0.362387299364716 & 0.519983298123519 & 0.131313848048665 & 0.0124278424120106 & 0.0108062486054778 & 0\\\\-0.303710417873362 & 0 & -0.169696582933032 & 0.088217499486798 & 0.0767068167751027 & 0\\\\0 & -0.303710417873362 & -0.169696582933032 & 0.0319662950195832 & 0.0277953098796799 & 0\\\\0 & -0.932039085967226 & -0.337731590275575 & -0.932039085967226 & 0.337731590275575 & -0.932039085967226\\\\-1 & 0 & 0.362357754476674 & 0 & -0.362357754476674 & 0\\\\0 & 0.362357754476674 & -0.868696857770623 & 0.362357754476674 & 0.868696857770623 & 0.362357754476674\\end{matrix}\\right]$"
      ],
      "text/plain": [
       "Matrix([\n",
       "[ 0.362387299364716,  0.519983298123519,  0.131313848048665, 0.0124278424120106, 0.0108062486054778,                  0],\n",
       "[-0.303710417873362,                  0, -0.169696582933032,  0.088217499486798, 0.0767068167751027,                  0],\n",
       "[                 0, -0.303710417873362, -0.169696582933032, 0.0319662950195832, 0.0277953098796799,                  0],\n",
       "[                 0, -0.932039085967226, -0.337731590275575, -0.932039085967226,  0.337731590275575, -0.932039085967226],\n",
       "[                -1,                  0,  0.362357754476674,                  0, -0.362357754476674,                  0],\n",
       "[                 0,  0.362357754476674, -0.868696857770623,  0.362357754476674,  0.868696857770623,  0.362357754476674]])"
      ]
     },
     "execution_count": 31,
     "metadata": {},
     "output_type": "execute_result"
    }
   ],
   "source": [
    "print(\"Jacobian Matrix is:\")\n",
    "Jac1"
   ]
  },
  {
   "cell_type": "code",
   "execution_count": 32,
   "metadata": {},
   "outputs": [
    {
     "name": "stdout",
     "output_type": "stream",
     "text": [
      "Jacobian Inverse:\n"
     ]
    },
    {
     "data": {
      "text/latex": [
       "$\\displaystyle \\left[\\begin{matrix}0 & 0 & 0 & -0.140877291742671 & -1.0 & -0.362357754476674\\\\11.8605552952971 & -7.83599194040554 & 17.0138735977755 & 0.94077672131741 & 6.67798698910148 & 2.41982036979525\\\\-33.2900564888701 & 25.3427488817824 & -56.9959815307315 & -2.78384101601035 & -19.7607505196463 & -7.16046118507279\\\\-35.0909353166098 & 38.0493248147256 & -60.0792702730998 & -3.75749336997163 & -24.2724856208478 & -9.66484266670141\\\\-33.2900564888701 & 25.3427488817824 & -56.9959815307315 & -2.39506144664214 & -19.7607505196463 & -6.16046118507279\\\\23.2303800213127 & -30.2133328743201 & 43.0653966753243 & 1.88467756268699 & 17.5944986317463 & 7.60738005138283\\end{matrix}\\right]$"
      ],
      "text/plain": [
       "Matrix([\n",
       "[                0,                 0,                 0, -0.140877291742671,              -1.0, -0.362357754476674],\n",
       "[ 11.8605552952971, -7.83599194040554,  17.0138735977755,   0.94077672131741,  6.67798698910148,   2.41982036979525],\n",
       "[-33.2900564888701,  25.3427488817824, -56.9959815307315,  -2.78384101601035, -19.7607505196463,  -7.16046118507279],\n",
       "[-35.0909353166098,  38.0493248147256, -60.0792702730998,  -3.75749336997163, -24.2724856208478,  -9.66484266670141],\n",
       "[-33.2900564888701,  25.3427488817824, -56.9959815307315,  -2.39506144664214, -19.7607505196463,  -6.16046118507279],\n",
       "[ 23.2303800213127, -30.2133328743201,  43.0653966753243,   1.88467756268699,  17.5944986317463,   7.60738005138283]])"
      ]
     },
     "execution_count": 32,
     "metadata": {},
     "output_type": "execute_result"
    }
   ],
   "source": [
    "jac_inv = Jac1.inv()\n",
    "\n",
    "print(\"Jacobian Inverse:\")\n",
    "jac_inv"
   ]
  }
 ],
 "metadata": {
  "kernelspec": {
   "display_name": "Python 3.9.13 ('base')",
   "language": "python",
   "name": "python3"
  },
  "language_info": {
   "codemirror_mode": {
    "name": "ipython",
    "version": 3
   },
   "file_extension": ".py",
   "mimetype": "text/x-python",
   "name": "python",
   "nbconvert_exporter": "python",
   "pygments_lexer": "ipython3",
   "version": "3.9.13"
  },
  "orig_nbformat": 4,
  "vscode": {
   "interpreter": {
    "hash": "2f7f8eab6d06230b83e0aba089385f216a37743657e86d25cf1a6078346395c2"
   }
  }
 },
 "nbformat": 4,
 "nbformat_minor": 2
}
